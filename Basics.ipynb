{
 "cells": [
  {
   "cell_type": "code",
   "execution_count": 24,
   "id": "6cfc0c27",
   "metadata": {},
   "outputs": [
    {
     "data": {
      "text/plain": [
       "'Nursery'"
      ]
     },
     "execution_count": 24,
     "metadata": {},
     "output_type": "execute_result"
    }
   ],
   "source": [
    "# Variables\n",
    "Class = 'Nursery'\n",
    "print (Class)\n"
   ]
  },
  {
   "cell_type": "code",
   "execution_count": 16,
   "id": "6be74708",
   "metadata": {},
   "outputs": [
    {
     "name": "stdout",
     "output_type": "stream",
     "text": [
      "5\n"
     ]
    }
   ],
   "source": [
    "# Data types, Float and Int\n",
    "x = 2.5\n",
    "y = 2\n",
    "z = x * y\n",
    "f = int (z)\n",
    "print (f)\n"
   ]
  },
  {
   "cell_type": "code",
   "execution_count": null,
   "id": "0c2535cf",
   "metadata": {},
   "outputs": [],
   "source": [
    "#Boolean\n",
    "True\n",
    "False"
   ]
  },
  {
   "cell_type": "code",
   "execution_count": null,
   "id": "291f29c8",
   "metadata": {},
   "outputs": [],
   "source": [
    "#Concatenation\n",
    "\n",
    "F_name = Funmilola\n",
    "L_name = Fanifosi\n",
    "Full_name = F_name + L_name\n"
   ]
  },
  {
   "cell_type": "code",
   "execution_count": 28,
   "id": "be5f97a9",
   "metadata": {},
   "outputs": [
    {
     "name": "stdout",
     "output_type": "stream",
     "text": [
      "Hello my name isFunmilolaFanifosiand i am27years old\n"
     ]
    }
   ],
   "source": [
    "#String\n",
    "# used to conver numbers int a string so that we can concatenate into a string\n",
    "\n",
    "F_name = 'Funmilola'\n",
    "L_name = 'Fanifosi'\n",
    "Full_name = F_name + L_name\n",
    "age = 27\n",
    "\n",
    "print ('Hello my name is' + Full_name + 'and i am' + str (age) + 'years old')"
   ]
  },
  {
   "cell_type": "code",
   "execution_count": 31,
   "id": "43d0368e",
   "metadata": {},
   "outputs": [
    {
     "name": "stdout",
     "output_type": "stream",
     "text": [
      "Hello, my name is Funmilola Fanifosi. I will be 28 next year\n"
     ]
    }
   ],
   "source": [
    "#F-strings\n",
    "\n",
    "F_name = 'Funmilola'\n",
    "L_name = 'Fanifosi'\n",
    "age = 27\n",
    "\n",
    "print (f\"Hello, my name is {F_name} {L_name}. I will be {age + 1} next year\")"
   ]
  },
  {
   "cell_type": "code",
   "execution_count": 38,
   "id": "a75bb3d6",
   "metadata": {},
   "outputs": [
    {
     "name": "stdout",
     "output_type": "stream",
     "text": [
      "Hello world\n"
     ]
    }
   ],
   "source": [
    "#String methods\n",
    "#s.capitalize\n",
    "greet = 'hello world'\n",
    "\n",
    "print (greet.capitalize())\n"
   ]
  },
  {
   "cell_type": "code",
   "execution_count": 39,
   "id": "f034aa05",
   "metadata": {},
   "outputs": [
    {
     "name": "stdout",
     "output_type": "stream",
     "text": [
      "[0, 1, 2, 3, 4, 5]\n"
     ]
    }
   ],
   "source": [
    "#Lists: enclosed ina a square bracket and separated by a comma\n",
    "numbers = [0, 1, 2, 3, 4, 5]\n",
    "print (numbers)"
   ]
  },
  {
   "cell_type": "code",
   "execution_count": 51,
   "id": "5662d9b4",
   "metadata": {},
   "outputs": [
    {
     "name": "stdout",
     "output_type": "stream",
     "text": [
      "Mangoes\n",
      "Peaches\n",
      "['Apples', 'Oranges', 'Mangoes', 'Peaches', 'Pineapples']\n",
      "['Oranges', 'Mangoes', 'Peaches', 'Pineapples']\n",
      "None\n"
     ]
    }
   ],
   "source": [
    "# To access an element in the list, we use the index number of the item\n",
    "#To list the last item, use -1\n",
    "#To add an item to the end of the list, use .append\n",
    "#To remove based on the name of an item, use .remove\n",
    "#To add at a particular position, use .insert\n",
    "#To delete some specific item, use .del\n",
    "#To remove the last item, use .last\n",
    "#To add two lsts together, use .extend\n",
    "fruits = [\"Apples\", \"Oranges\", \"Mangoes\", \"Peaches\"]\n",
    "print (fruits [2])\n",
    "print (fruits [-1])\n",
    "fruits.append (\"Pineapples\")\n",
    "print (fruits)\n",
    "del fruits [0]\n",
    "print (fruits)\n",
    "fruits2 = [\"plum\", \"banana\"]\n",
    "print (fruits.extend(fruits2))"
   ]
  },
  {
   "cell_type": "code",
   "execution_count": 57,
   "id": "23245fba",
   "metadata": {},
   "outputs": [
    {
     "name": "stdout",
     "output_type": "stream",
     "text": [
      "{'name': 'Tobi', 'town': 'tuyen'}\n"
     ]
    }
   ],
   "source": [
    "#Dictionary, this is a collection of key value pairs\n",
    "legend = {'name': 'Tobi', 'town': 'tuyen'}\n",
    "print(legend)"
   ]
  },
  {
   "cell_type": "code",
   "execution_count": 61,
   "id": "f774cb08",
   "metadata": {},
   "outputs": [
    {
     "data": {
      "text/plain": [
       "True"
      ]
     },
     "execution_count": 61,
     "metadata": {},
     "output_type": "execute_result"
    }
   ],
   "source": [
    "#Conditionals\n",
    "#equality(==)\n",
    "#inequality (!=)\n",
    "#and (all conditions must be met for statement to be true)\n",
    "#or (one of the condition is true)\n",
    "\n",
    "age_0 = 22\n",
    "age_1 = 18\n",
    "age_0>= 21 and age_1 >=21\n",
    "age_0 >= 21 or age_1 >=21"
   ]
  },
  {
   "cell_type": "code",
   "execution_count": 64,
   "id": "645b9355",
   "metadata": {},
   "outputs": [
    {
     "name": "stdout",
     "output_type": "stream",
     "text": [
      "Go back home!\n"
     ]
    }
   ],
   "source": [
    "#if (conditional) give one level of identation after the \"if\" statement\n",
    "age = 17\n",
    "if age > 18: \n",
    "    print (\"You can vote!\")\n",
    "else:\n",
    "    print (\"Go back home!\")"
   ]
  },
  {
   "cell_type": "code",
   "execution_count": 67,
   "id": "66ec7cb9",
   "metadata": {},
   "outputs": [
    {
     "name": "stdout",
     "output_type": "stream",
     "text": [
      "1\n"
     ]
    }
   ],
   "source": [
    "#elif tests for another condition\n",
    "#Below 10 = Free\n",
    "#10-18 =5\n",
    "#19-65 =10\n",
    "#Above 65 = 1\n",
    "\n",
    "age = 66\n",
    "if age <= 10:\n",
    "    entryfee = 0\n",
    "    print (entryfee)\n",
    "elif age < 18:\n",
    "    entryfee = 5\n",
    "    print (entryfee)\n",
    "elif age < 65:\n",
    "    entryfee =10\n",
    "    print (entryfee)\n",
    "else:\n",
    "    print (1)\n"
   ]
  },
  {
   "cell_type": "code",
   "execution_count": 69,
   "id": "9be20e72",
   "metadata": {},
   "outputs": [
    {
     "name": "stdout",
     "output_type": "stream",
     "text": [
      "Hello Emma!\n",
      "Hello Sandy!\n",
      "Hello James!\n",
      "Hello Sara!\n",
      "Hello June!\n"
     ]
    }
   ],
   "source": [
    "#simple loop\n",
    "students = ['Emma', 'Sandy', 'James', 'Sara', 'June']\n",
    "for student in students:\n",
    "    print (f'Hello {student}!')"
   ]
  },
  {
   "cell_type": "code",
   "execution_count": 71,
   "id": "ae86a430",
   "metadata": {},
   "outputs": [
    {
     "ename": "SyntaxError",
     "evalue": "invalid syntax (3236812729.py, line 5)",
     "output_type": "error",
     "traceback": [
      "\u001b[0;36m  File \u001b[0;32m\"/var/folders/3b/y59k5g155bq8bvy6x2zr4fkh0000gn/T/ipykernel_27584/3236812729.py\"\u001b[0;36m, line \u001b[0;32m5\u001b[0m\n\u001b[0;31m    if stdent == 'Sara'\u001b[0m\n\u001b[0m                       ^\u001b[0m\n\u001b[0;31mSyntaxError\u001b[0m\u001b[0;31m:\u001b[0m invalid syntax\n"
     ]
    }
   ],
   "source": [
    "#simple loop\n",
    "students = ['Emma', 'Sandy', 'James', 'Sara', 'June']\n",
    "for student in students:\n",
    "    print (f'Hello {student}!')\n",
    "    if stdent == 'Sara'\n",
    "    break"
   ]
  },
  {
   "cell_type": "code",
   "execution_count": 72,
   "id": "25872571",
   "metadata": {},
   "outputs": [
    {
     "name": "stdout",
     "output_type": "stream",
     "text": [
      "playing game\n",
      "1\n",
      "playing game\n",
      "2\n",
      "playing game\n",
      "3\n",
      "playing game\n",
      "4\n",
      "playing game\n",
      "5\n",
      "playing game\n",
      "6\n",
      "playing game\n",
      "7\n",
      "playing game\n",
      "8\n",
      "playing game\n",
      "9\n",
      "playing game\n",
      "10\n"
     ]
    }
   ],
   "source": [
    "#while loop runs for as long as a condition is true\n",
    "isActive = True\n",
    "count=0\n",
    "while isActive:\n",
    "    count+=1\n",
    "    print ('playing game')\n",
    "    print (count)\n",
    "    if count == 10:\n",
    "        isActive =False"
   ]
  },
  {
   "cell_type": "code",
   "execution_count": 78,
   "id": "18ce3b85",
   "metadata": {},
   "outputs": [
    {
     "name": "stdout",
     "output_type": "stream",
     "text": [
      "Hello, Nelson!\n"
     ]
    }
   ],
   "source": [
    "#Function\n",
    "def greet_user(name):\n",
    "    \"\"\"Display. simple message.\"\"\"\n",
    "    print (f'Hello, {name}!')\n",
    "    \n",
    "greet_user ('Nelson')"
   ]
  },
  {
   "cell_type": "code",
   "execution_count": null,
   "id": "53176ec7",
   "metadata": {},
   "outputs": [],
   "source": []
  },
  {
   "cell_type": "code",
   "execution_count": null,
   "id": "0a9e7dfe",
   "metadata": {},
   "outputs": [],
   "source": []
  }
 ],
 "metadata": {
  "kernelspec": {
   "display_name": "Python 3 (ipykernel)",
   "language": "python",
   "name": "python3"
  },
  "language_info": {
   "codemirror_mode": {
    "name": "ipython",
    "version": 3
   },
   "file_extension": ".py",
   "mimetype": "text/x-python",
   "name": "python",
   "nbconvert_exporter": "python",
   "pygments_lexer": "ipython3",
   "version": "3.9.7"
  }
 },
 "nbformat": 4,
 "nbformat_minor": 5
}
